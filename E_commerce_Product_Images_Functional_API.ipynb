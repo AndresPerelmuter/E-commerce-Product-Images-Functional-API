{
  "cells": [
    {
      "cell_type": "markdown",
      "metadata": {
        "id": "view-in-github",
        "colab_type": "text"
      },
      "source": [
        "<a href=\"https://colab.research.google.com/github/AndresPerelmuter/E-commerce-Product-Images-Functional-API/blob/main/E_commerce_Product_Images_Functional_API.ipynb\" target=\"_parent\"><img src=\"https://colab.research.google.com/assets/colab-badge.svg\" alt=\"Open In Colab\"/></a>"
      ]
    },
    {
      "cell_type": "code",
      "execution_count": 1,
      "metadata": {
        "id": "g0XxSQAPXGxQ"
      },
      "outputs": [],
      "source": [
        "import os\n",
        "import shutil\n",
        "import numpy as np\n",
        "import pandas as pd\n",
        "import matplotlib.pyplot as plt\n",
        "\n",
        "import tensorflow as tf\n",
        "from tensorflow.keras import layers, Model, Input, models\n",
        "from tensorflow.keras.preprocessing.image import ImageDataGenerator, load_img, img_to_array\n",
        "from keras.callbacks import ReduceLROnPlateau\n",
        "\n",
        "from sklearn.model_selection import train_test_split"
      ]
    },
    {
      "cell_type": "code",
      "execution_count": 2,
      "metadata": {
        "colab": {
          "base_uri": "https://localhost:8080/"
        },
        "id": "Bd40qbDQthtA",
        "outputId": "60302e79-1025-4422-96a7-ffaef9c9f22f"
      },
      "outputs": [
        {
          "output_type": "stream",
          "name": "stdout",
          "text": [
            "Mounted at /content/drive\n"
          ]
        }
      ],
      "source": [
        "from google.colab import drive\n",
        "drive.mount('/content/drive')\n"
      ]
    },
    {
      "cell_type": "code",
      "execution_count": 3,
      "metadata": {
        "id": "X6EGtOtZesYC"
      },
      "outputs": [],
      "source": [
        "base_dir = \"/content/drive/MyDrive/E-commerce Product Images/data\" 
      ]
    },
    {
      "cell_type": "code",
      "execution_count": 4,
      "metadata": {
        "colab": {
          "base_uri": "https://localhost:8080/"
        },
        "id": "WY_SrGq8e0Xd",
        "outputId": "741c97a0-e447-4ab5-a6ff-17fe216bce67"
      },
      "outputs": [
        {
          "output_type": "stream",
          "name": "stdout",
          "text": [
            "Directorio: /content/drive/MyDrive/E-commerce Product Images/data\n",
            "  Subdirectorios: ['Footwear', 'Apparel', 'Imagenes']\n",
            "  Archivos: ['fashion.csv', '.DS_Store']...\n",
            "Directorio: /content/drive/MyDrive/E-commerce Product Images/data/Footwear\n",
            "  Subdirectorios: ['Women', 'Men']\n",
            "Directorio: /content/drive/MyDrive/E-commerce Product Images/data/Footwear/Women\n",
            "  Subdirectorios: ['Images']\n",
            "Directorio: /content/drive/MyDrive/E-commerce Product Images/data/Footwear/Women/Images\n",
            "  Subdirectorios: ['images_with_product_ids']\n",
            "Directorio: /content/drive/MyDrive/E-commerce Product Images/data/Footwear/Women/Images/images_with_product_ids\n",
            "  Archivos: ['13042.jpg', '12902.jpg', '11511.jpg', '10292.jpg', '11497.jpg']...\n",
            "Directorio: /content/drive/MyDrive/E-commerce Product Images/data/Footwear/Men\n",
            "  Subdirectorios: ['Images']\n",
            "Directorio: /content/drive/MyDrive/E-commerce Product Images/data/Footwear/Men/Images\n",
            "  Subdirectorios: ['images_with_product_ids']\n",
            "Directorio: /content/drive/MyDrive/E-commerce Product Images/data/Footwear/Men/Images/images_with_product_ids\n",
            "  Archivos: ['12966.jpg', '11915.jpg', '12508.jpg', '10039.jpg', '11912.jpg']...\n",
            "Directorio: /content/drive/MyDrive/E-commerce Product Images/data/Apparel\n",
            "  Subdirectorios: ['Boys', 'Girls']\n",
            "  Archivos: ['.DS_Store']...\n",
            "Directorio: /content/drive/MyDrive/E-commerce Product Images/data/Apparel/Boys\n",
            "  Subdirectorios: ['Images']\n",
            "  Archivos: ['.DS_Store']...\n",
            "Directorio: /content/drive/MyDrive/E-commerce Product Images/data/Apparel/Boys/Images\n",
            "  Subdirectorios: ['images_with_product_ids']\n",
            "  Archivos: ['.DS_Store']...\n",
            "Directorio: /content/drive/MyDrive/E-commerce Product Images/data/Apparel/Boys/Images/images_with_product_ids\n",
            "  Archivos: ['10054.jpg', '10671.jpg', '12844.jpg', '12845.jpg', '10649.jpg']...\n",
            "Directorio: /content/drive/MyDrive/E-commerce Product Images/data/Apparel/Girls\n",
            "  Subdirectorios: ['Images']\n",
            "Directorio: /content/drive/MyDrive/E-commerce Product Images/data/Apparel/Girls/Images\n",
            "  Subdirectorios: ['images_with_product_ids']\n",
            "Directorio: /content/drive/MyDrive/E-commerce Product Images/data/Apparel/Girls/Images/images_with_product_ids\n",
            "  Archivos: ['2710.jpg', '31128.jpg', '2741.jpg', '27225.jpg', '2718.jpg']...\n",
            "Directorio: /content/drive/MyDrive/E-commerce Product Images/data/Imagenes\n"
          ]
        }
      ],
      "source": [
        "# Inspección de la estructura de archivos\n",
        "def explore_directory(path):\n",
        "    for root, dirs, files in os.walk(path):\n",
        "        print(f\"Directorio: {root}\")\n",
        "        if dirs:\n",
        "            print(f\"  Subdirectorios: {dirs}\")\n",
        "        if files:\n",
        "            print(f\"  Archivos: {files[:5]}...\")\n",
        "\n",
        "# Explorar la carpeta base\n",
        "explore_directory(base_dir)"
      ]
    },
    {
      "cell_type": "code",
      "execution_count": 5,
      "metadata": {
        "id": "PA-sS0BHe3xw"
      },
      "outputs": [],
      "source": [
        "csv_path = os.path.join(base_dir, \"fashion.csv\")\n",
        "\n",
        "data = pd.read_csv(csv_path)"
      ]
    },
    {
      "cell_type": "code",
      "execution_count": 6,
      "metadata": {
        "colab": {
          "base_uri": "https://localhost:8080/",
          "height": 458
        },
        "id": "2hBk0lwzfVRC",
        "outputId": "7bea8043-f2e3-496a-9b5c-b581fad81dd5"
      },
      "outputs": [
        {
          "output_type": "execute_result",
          "data": {
            "text/plain": [
              "      ProductId Gender  Category SubCategory   ProductType Colour   Usage  \\\n",
              "0         42419  Girls   Apparel     Topwear          Tops  White  Casual   \n",
              "1         34009  Girls   Apparel     Topwear          Tops  Black  Casual   \n",
              "2         40143  Girls   Apparel     Topwear          Tops   Blue  Casual   \n",
              "3         23623  Girls   Apparel     Topwear          Tops   Pink  Casual   \n",
              "4         47154  Girls   Apparel  Bottomwear        Capris  Black  Casual   \n",
              "...         ...    ...       ...         ...           ...    ...     ...   \n",
              "2901      51755  Women  Footwear       Shoes  Casual Shoes  Black  Casual   \n",
              "2902      47630  Women  Footwear       Shoes         Flats   Blue  Casual   \n",
              "2903      32836  Women  Footwear       Shoes         Flats   Pink  Casual   \n",
              "2904      35821  Women  Footwear       Shoes         Heels  Black  Casual   \n",
              "2905      18553  Women  Footwear       Shoes         Heels   Blue  Casual   \n",
              "\n",
              "                                     ProductTitle      Image  \\\n",
              "0              Gini and Jony Girls Knit White Top  42419.jpg   \n",
              "1                   Gini and Jony Girls Black Top  34009.jpg   \n",
              "2     Gini and Jony Girls Pretty Blossom Blue Top  40143.jpg   \n",
              "3      Doodle Kids Girls Pink I love Shopping Top  23623.jpg   \n",
              "4                Gini and Jony Girls Black Capris  47154.jpg   \n",
              "...                                           ...        ...   \n",
              "2901                    Catwalk Women Black Shoes  51755.jpg   \n",
              "2902              Carlton London Women Blue Shoes  47630.jpg   \n",
              "2903             Grendha Women Flori Pink Sandals  32836.jpg   \n",
              "2904                    Enroute Women Black Heels  35821.jpg   \n",
              "2905          Catwalk Women Mary Janes Blue Flats  18553.jpg   \n",
              "\n",
              "                                               ImageURL  \n",
              "0     http://assets.myntassets.com/v1/images/style/p...  \n",
              "1     http://assets.myntassets.com/v1/images/style/p...  \n",
              "2     http://assets.myntassets.com/v1/images/style/p...  \n",
              "3     http://assets.myntassets.com/v1/images/style/p...  \n",
              "4     http://assets.myntassets.com/v1/images/style/p...  \n",
              "...                                                 ...  \n",
              "2901  http://assets.myntassets.com/v1/images/style/p...  \n",
              "2902  http://assets.myntassets.com/v1/images/style/p...  \n",
              "2903  http://assets.myntassets.com/v1/images/style/p...  \n",
              "2904  http://assets.myntassets.com/v1/images/style/p...  \n",
              "2905  http://assets.myntassets.com/v1/images/style/p...  \n",
              "\n",
              "[2906 rows x 10 columns]"
            ],
            "text/html": [
              "\n",
              "  <div id=\"df-fa58fd62-44ad-4a2c-87ce-0e6e68b3f96b\" class=\"colab-df-container\">\n",
              "    <div>\n",
              "<style scoped>\n",
              "    .dataframe tbody tr th:only-of-type {\n",
              "        vertical-align: middle;\n",
              "    }\n",
              "\n",
              "    .dataframe tbody tr th {\n",
              "        vertical-align: top;\n",
              "    }\n",
              "\n",
              "    .dataframe thead th {\n",
              "        text-align: right;\n",
              "    }\n",
              "</style>\n",
              "<table border=\"1\" class=\"dataframe\">\n",
              "  <thead>\n",
              "    <tr style=\"text-align: right;\">\n",
              "      <th></th>\n",
              "      <th>ProductId</th>\n",
              "      <th>Gender</th>\n",
              "      <th>Category</th>\n",
              "      <th>SubCategory</th>\n",
              "      <th>ProductType</th>\n",
              "      <th>Colour</th>\n",
              "      <th>Usage</th>\n",
              "      <th>ProductTitle</th>\n",
              "      <th>Image</th>\n",
              "      <th>ImageURL</th>\n",
              "    </tr>\n",
              "  </thead>\n",
              "  <tbody>\n",
              "    <tr>\n",
              "      <th>0</th>\n",
              "      <td>42419</td>\n",
              "      <td>Girls</td>\n",
              "      <td>Apparel</td>\n",
              "      <td>Topwear</td>\n",
              "      <td>Tops</td>\n",
              "      <td>White</td>\n",
              "      <td>Casual</td>\n",
              "      <td>Gini and Jony Girls Knit White Top</td>\n",
              "      <td>42419.jpg</td>\n",
              "      <td>http://assets.myntassets.com/v1/images/style/p...</td>\n",
              "    </tr>\n",
              "    <tr>\n",
              "      <th>1</th>\n",
              "      <td>34009</td>\n",
              "      <td>Girls</td>\n",
              "      <td>Apparel</td>\n",
              "      <td>Topwear</td>\n",
              "      <td>Tops</td>\n",
              "      <td>Black</td>\n",
              "      <td>Casual</td>\n",
              "      <td>Gini and Jony Girls Black Top</td>\n",
              "      <td>34009.jpg</td>\n",
              "      <td>http://assets.myntassets.com/v1/images/style/p...</td>\n",
              "    </tr>\n",
              "    <tr>\n",
              "      <th>2</th>\n",
              "      <td>40143</td>\n",
              "      <td>Girls</td>\n",
              "      <td>Apparel</td>\n",
              "      <td>Topwear</td>\n",
              "      <td>Tops</td>\n",
              "      <td>Blue</td>\n",
              "      <td>Casual</td>\n",
              "      <td>Gini and Jony Girls Pretty Blossom Blue Top</td>\n",
              "      <td>40143.jpg</td>\n",
              "      <td>http://assets.myntassets.com/v1/images/style/p...</td>\n",
              "    </tr>\n",
              "    <tr>\n",
              "      <th>3</th>\n",
              "      <td>23623</td>\n",
              "      <td>Girls</td>\n",
              "      <td>Apparel</td>\n",
              "      <td>Topwear</td>\n",
              "      <td>Tops</td>\n",
              "      <td>Pink</td>\n",
              "      <td>Casual</td>\n",
              "      <td>Doodle Kids Girls Pink I love Shopping Top</td>\n",
              "      <td>23623.jpg</td>\n",
              "      <td>http://assets.myntassets.com/v1/images/style/p...</td>\n",
              "    </tr>\n",
              "    <tr>\n",
              "      <th>4</th>\n",
              "      <td>47154</td>\n",
              "      <td>Girls</td>\n",
              "      <td>Apparel</td>\n",
              "      <td>Bottomwear</td>\n",
              "      <td>Capris</td>\n",
              "      <td>Black</td>\n",
              "      <td>Casual</td>\n",
              "      <td>Gini and Jony Girls Black Capris</td>\n",
              "      <td>47154.jpg</td>\n",
              "      <td>http://assets.myntassets.com/v1/images/style/p...</td>\n",
              "    </tr>\n",
              "    <tr>\n",
              "      <th>...</th>\n",
              "      <td>...</td>\n",
              "      <td>...</td>\n",
              "      <td>...</td>\n",
              "      <td>...</td>\n",
              "      <td>...</td>\n",
              "      <td>...</td>\n",
              "      <td>...</td>\n",
              "      <td>...</td>\n",
              "      <td>...</td>\n",
              "      <td>...</td>\n",
              "    </tr>\n",
              "    <tr>\n",
              "      <th>2901</th>\n",
              "      <td>51755</td>\n",
              "      <td>Women</td>\n",
              "      <td>Footwear</td>\n",
              "      <td>Shoes</td>\n",
              "      <td>Casual Shoes</td>\n",
              "      <td>Black</td>\n",
              "      <td>Casual</td>\n",
              "      <td>Catwalk Women Black Shoes</td>\n",
              "      <td>51755.jpg</td>\n",
              "      <td>http://assets.myntassets.com/v1/images/style/p...</td>\n",
              "    </tr>\n",
              "    <tr>\n",
              "      <th>2902</th>\n",
              "      <td>47630</td>\n",
              "      <td>Women</td>\n",
              "      <td>Footwear</td>\n",
              "      <td>Shoes</td>\n",
              "      <td>Flats</td>\n",
              "      <td>Blue</td>\n",
              "      <td>Casual</td>\n",
              "      <td>Carlton London Women Blue Shoes</td>\n",
              "      <td>47630.jpg</td>\n",
              "      <td>http://assets.myntassets.com/v1/images/style/p...</td>\n",
              "    </tr>\n",
              "    <tr>\n",
              "      <th>2903</th>\n",
              "      <td>32836</td>\n",
              "      <td>Women</td>\n",
              "      <td>Footwear</td>\n",
              "      <td>Shoes</td>\n",
              "      <td>Flats</td>\n",
              "      <td>Pink</td>\n",
              "      <td>Casual</td>\n",
              "      <td>Grendha Women Flori Pink Sandals</td>\n",
              "      <td>32836.jpg</td>\n",
              "      <td>http://assets.myntassets.com/v1/images/style/p...</td>\n",
              "    </tr>\n",
              "    <tr>\n",
              "      <th>2904</th>\n",
              "      <td>35821</td>\n",
              "      <td>Women</td>\n",
              "      <td>Footwear</td>\n",
              "      <td>Shoes</td>\n",
              "      <td>Heels</td>\n",
              "      <td>Black</td>\n",
              "      <td>Casual</td>\n",
              "      <td>Enroute Women Black Heels</td>\n",
              "      <td>35821.jpg</td>\n",
              "      <td>http://assets.myntassets.com/v1/images/style/p...</td>\n",
              "    </tr>\n",
              "    <tr>\n",
              "      <th>2905</th>\n",
              "      <td>18553</td>\n",
              "      <td>Women</td>\n",
              "      <td>Footwear</td>\n",
              "      <td>Shoes</td>\n",
              "      <td>Heels</td>\n",
              "      <td>Blue</td>\n",
              "      <td>Casual</td>\n",
              "      <td>Catwalk Women Mary Janes Blue Flats</td>\n",
              "      <td>18553.jpg</td>\n",
              "      <td>http://assets.myntassets.com/v1/images/style/p...</td>\n",
              "    </tr>\n",
              "  </tbody>\n",
              "</table>\n",
              "<p>2906 rows × 10 columns</p>\n",
              "</div>\n",
              "    <div class=\"colab-df-buttons\">\n",
              "\n",
              "  <div class=\"colab-df-container\">\n",
              "    <button class=\"colab-df-convert\" onclick=\"convertToInteractive('df-fa58fd62-44ad-4a2c-87ce-0e6e68b3f96b')\"\n",
              "            title=\"Convert this dataframe to an interactive table.\"\n",
              "            style=\"display:none;\">\n",
              "\n",
              "  <svg xmlns=\"http://www.w3.org/2000/svg\" height=\"24px\" viewBox=\"0 -960 960 960\">\n",
              "    <path d=\"M120-120v-720h720v720H120Zm60-500h600v-160H180v160Zm220 220h160v-160H400v160Zm0 220h160v-160H400v160ZM180-400h160v-160H180v160Zm440 0h160v-160H620v160ZM180-180h160v-160H180v160Zm440 0h160v-160H620v160Z\"/>\n",
              "  </svg>\n",
              "    </button>\n",
              "\n",
              "  <style>\n",
              "    .colab-df-container {\n",
              "      display:flex;\n",
              "      gap: 12px;\n",
              "    }\n",
              "\n",
              "    .colab-df-convert {\n",
              "      background-color: #E8F0FE;\n",
              "      border: none;\n",
              "      border-radius: 50%;\n",
              "      cursor: pointer;\n",
              "      display: none;\n",
              "      fill: #1967D2;\n",
              "      height: 32px;\n",
              "      padding: 0 0 0 0;\n",
              "      width: 32px;\n",
              "    }\n",
              "\n",
              "    .colab-df-convert:hover {\n",
              "      background-color: #E2EBFA;\n",
              "      box-shadow: 0px 1px 2px rgba(60, 64, 67, 0.3), 0px 1px 3px 1px rgba(60, 64, 67, 0.15);\n",
              "      fill: #174EA6;\n",
              "    }\n",
              "\n",
              "    .colab-df-buttons div {\n",
              "      margin-bottom: 4px;\n",
              "    }\n",
              "\n",
              "    [theme=dark] .colab-df-convert {\n",
              "      background-color: #3B4455;\n",
              "      fill: #D2E3FC;\n",
              "    }\n",
              "\n",
              "    [theme=dark] .colab-df-convert:hover {\n",
              "      background-color: #434B5C;\n",
              "      box-shadow: 0px 1px 3px 1px rgba(0, 0, 0, 0.15);\n",
              "      filter: drop-shadow(0px 1px 2px rgba(0, 0, 0, 0.3));\n",
              "      fill: #FFFFFF;\n",
              "    }\n",
              "  </style>\n",
              "\n",
              "    <script>\n",
              "      const buttonEl =\n",
              "        document.querySelector('#df-fa58fd62-44ad-4a2c-87ce-0e6e68b3f96b button.colab-df-convert');\n",
              "      buttonEl.style.display =\n",
              "        google.colab.kernel.accessAllowed ? 'block' : 'none';\n",
              "\n",
              "      async function convertToInteractive(key) {\n",
              "        const element = document.querySelector('#df-fa58fd62-44ad-4a2c-87ce-0e6e68b3f96b');\n",
              "        const dataTable =\n",
              "          await google.colab.kernel.invokeFunction('convertToInteractive',\n",
              "                                                    [key], {});\n",
              "        if (!dataTable) return;\n",
              "\n",
              "        const docLinkHtml = 'Like what you see? Visit the ' +\n",
              "          '<a target=\"_blank\" href=https://colab.research.google.com/notebooks/data_table.ipynb>data table notebook</a>'\n",
              "          + ' to learn more about interactive tables.';\n",
              "        element.innerHTML = '';\n",
              "        dataTable['output_type'] = 'display_data';\n",
              "        await google.colab.output.renderOutput(dataTable, element);\n",
              "        const docLink = document.createElement('div');\n",
              "        docLink.innerHTML = docLinkHtml;\n",
              "        element.appendChild(docLink);\n",
              "      }\n",
              "    </script>\n",
              "  </div>\n",
              "\n",
              "\n",
              "<div id=\"df-56c96feb-b229-4496-9b75-cbee2356358f\">\n",
              "  <button class=\"colab-df-quickchart\" onclick=\"quickchart('df-56c96feb-b229-4496-9b75-cbee2356358f')\"\n",
              "            title=\"Suggest charts\"\n",
              "            style=\"display:none;\">\n",
              "\n",
              "<svg xmlns=\"http://www.w3.org/2000/svg\" height=\"24px\"viewBox=\"0 0 24 24\"\n",
              "     width=\"24px\">\n",
              "    <g>\n",
              "        <path d=\"M19 3H5c-1.1 0-2 .9-2 2v14c0 1.1.9 2 2 2h14c1.1 0 2-.9 2-2V5c0-1.1-.9-2-2-2zM9 17H7v-7h2v7zm4 0h-2V7h2v10zm4 0h-2v-4h2v4z\"/>\n",
              "    </g>\n",
              "</svg>\n",
              "  </button>\n",
              "\n",
              "<style>\n",
              "  .colab-df-quickchart {\n",
              "      --bg-color: #E8F0FE;\n",
              "      --fill-color: #1967D2;\n",
              "      --hover-bg-color: #E2EBFA;\n",
              "      --hover-fill-color: #174EA6;\n",
              "      --disabled-fill-color: #AAA;\n",
              "      --disabled-bg-color: #DDD;\n",
              "  }\n",
              "\n",
              "  [theme=dark] .colab-df-quickchart {\n",
              "      --bg-color: #3B4455;\n",
              "      --fill-color: #D2E3FC;\n",
              "      --hover-bg-color: #434B5C;\n",
              "      --hover-fill-color: #FFFFFF;\n",
              "      --disabled-bg-color: #3B4455;\n",
              "      --disabled-fill-color: #666;\n",
              "  }\n",
              "\n",
              "  .colab-df-quickchart {\n",
              "    background-color: var(--bg-color);\n",
              "    border: none;\n",
              "    border-radius: 50%;\n",
              "    cursor: pointer;\n",
              "    display: none;\n",
              "    fill: var(--fill-color);\n",
              "    height: 32px;\n",
              "    padding: 0;\n",
              "    width: 32px;\n",
              "  }\n",
              "\n",
              "  .colab-df-quickchart:hover {\n",
              "    background-color: var(--hover-bg-color);\n",
              "    box-shadow: 0 1px 2px rgba(60, 64, 67, 0.3), 0 1px 3px 1px rgba(60, 64, 67, 0.15);\n",
              "    fill: var(--button-hover-fill-color);\n",
              "  }\n",
              "\n",
              "  .colab-df-quickchart-complete:disabled,\n",
              "  .colab-df-quickchart-complete:disabled:hover {\n",
              "    background-color: var(--disabled-bg-color);\n",
              "    fill: var(--disabled-fill-color);\n",
              "    box-shadow: none;\n",
              "  }\n",
              "\n",
              "  .colab-df-spinner {\n",
              "    border: 2px solid var(--fill-color);\n",
              "    border-color: transparent;\n",
              "    border-bottom-color: var(--fill-color);\n",
              "    animation:\n",
              "      spin 1s steps(1) infinite;\n",
              "  }\n",
              "\n",
              "  @keyframes spin {\n",
              "    0% {\n",
              "      border-color: transparent;\n",
              "      border-bottom-color: var(--fill-color);\n",
              "      border-left-color: var(--fill-color);\n",
              "    }\n",
              "    20% {\n",
              "      border-color: transparent;\n",
              "      border-left-color: var(--fill-color);\n",
              "      border-top-color: var(--fill-color);\n",
              "    }\n",
              "    30% {\n",
              "      border-color: transparent;\n",
              "      border-left-color: var(--fill-color);\n",
              "      border-top-color: var(--fill-color);\n",
              "      border-right-color: var(--fill-color);\n",
              "    }\n",
              "    40% {\n",
              "      border-color: transparent;\n",
              "      border-right-color: var(--fill-color);\n",
              "      border-top-color: var(--fill-color);\n",
              "    }\n",
              "    60% {\n",
              "      border-color: transparent;\n",
              "      border-right-color: var(--fill-color);\n",
              "    }\n",
              "    80% {\n",
              "      border-color: transparent;\n",
              "      border-right-color: var(--fill-color);\n",
              "      border-bottom-color: var(--fill-color);\n",
              "    }\n",
              "    90% {\n",
              "      border-color: transparent;\n",
              "      border-bottom-color: var(--fill-color);\n",
              "    }\n",
              "  }\n",
              "</style>\n",
              "\n",
              "  <script>\n",
              "    async function quickchart(key) {\n",
              "      const quickchartButtonEl =\n",
              "        document.querySelector('#' + key + ' button');\n",
              "      quickchartButtonEl.disabled = true;  // To prevent multiple clicks.\n",
              "      quickchartButtonEl.classList.add('colab-df-spinner');\n",
              "      try {\n",
              "        const charts = await google.colab.kernel.invokeFunction(\n",
              "            'suggestCharts', [key], {});\n",
              "      } catch (error) {\n",
              "        console.error('Error during call to suggestCharts:', error);\n",
              "      }\n",
              "      quickchartButtonEl.classList.remove('colab-df-spinner');\n",
              "      quickchartButtonEl.classList.add('colab-df-quickchart-complete');\n",
              "    }\n",
              "    (() => {\n",
              "      let quickchartButtonEl =\n",
              "        document.querySelector('#df-56c96feb-b229-4496-9b75-cbee2356358f button');\n",
              "      quickchartButtonEl.style.display =\n",
              "        google.colab.kernel.accessAllowed ? 'block' : 'none';\n",
              "    })();\n",
              "  </script>\n",
              "</div>\n",
              "\n",
              "  <div id=\"id_be6591f5-f489-4ccc-b37d-fbd0d71f060f\">\n",
              "    <style>\n",
              "      .colab-df-generate {\n",
              "        background-color: #E8F0FE;\n",
              "        border: none;\n",
              "        border-radius: 50%;\n",
              "        cursor: pointer;\n",
              "        display: none;\n",
              "        fill: #1967D2;\n",
              "        height: 32px;\n",
              "        padding: 0 0 0 0;\n",
              "        width: 32px;\n",
              "      }\n",
              "\n",
              "      .colab-df-generate:hover {\n",
              "        background-color: #E2EBFA;\n",
              "        box-shadow: 0px 1px 2px rgba(60, 64, 67, 0.3), 0px 1px 3px 1px rgba(60, 64, 67, 0.15);\n",
              "        fill: #174EA6;\n",
              "      }\n",
              "\n",
              "      [theme=dark] .colab-df-generate {\n",
              "        background-color: #3B4455;\n",
              "        fill: #D2E3FC;\n",
              "      }\n",
              "\n",
              "      [theme=dark] .colab-df-generate:hover {\n",
              "        background-color: #434B5C;\n",
              "        box-shadow: 0px 1px 3px 1px rgba(0, 0, 0, 0.15);\n",
              "        filter: drop-shadow(0px 1px 2px rgba(0, 0, 0, 0.3));\n",
              "        fill: #FFFFFF;\n",
              "      }\n",
              "    </style>\n",
              "    <button class=\"colab-df-generate\" onclick=\"generateWithVariable('data')\"\n",
              "            title=\"Generate code using this dataframe.\"\n",
              "            style=\"display:none;\">\n",
              "\n",
              "  <svg xmlns=\"http://www.w3.org/2000/svg\" height=\"24px\"viewBox=\"0 0 24 24\"\n",
              "       width=\"24px\">\n",
              "    <path d=\"M7,19H8.4L18.45,9,17,7.55,7,17.6ZM5,21V16.75L18.45,3.32a2,2,0,0,1,2.83,0l1.4,1.43a1.91,1.91,0,0,1,.58,1.4,1.91,1.91,0,0,1-.58,1.4L9.25,21ZM18.45,9,17,7.55Zm-12,3A5.31,5.31,0,0,0,4.9,8.1,5.31,5.31,0,0,0,1,6.5,5.31,5.31,0,0,0,4.9,4.9,5.31,5.31,0,0,0,6.5,1,5.31,5.31,0,0,0,8.1,4.9,5.31,5.31,0,0,0,12,6.5,5.46,5.46,0,0,0,6.5,12Z\"/>\n",
              "  </svg>\n",
              "    </button>\n",
              "    <script>\n",
              "      (() => {\n",
              "      const buttonEl =\n",
              "        document.querySelector('#id_be6591f5-f489-4ccc-b37d-fbd0d71f060f button.colab-df-generate');\n",
              "      buttonEl.style.display =\n",
              "        google.colab.kernel.accessAllowed ? 'block' : 'none';\n",
              "\n",
              "      buttonEl.onclick = () => {\n",
              "        google.colab.notebook.generateWithVariable('data');\n",
              "      }\n",
              "      })();\n",
              "    </script>\n",
              "  </div>\n",
              "\n",
              "    </div>\n",
              "  </div>\n"
            ],
            "application/vnd.google.colaboratory.intrinsic+json": {
              "type": "dataframe",
              "variable_name": "data",
              "summary": "{\n  \"name\": \"data\",\n  \"rows\": 2906,\n  \"fields\": [\n    {\n      \"column\": \"ProductId\",\n      \"properties\": {\n        \"dtype\": \"number\",\n        \"std\": 15527,\n        \"min\": 1636,\n        \"max\": 59943,\n        \"num_unique_values\": 2906,\n        \"samples\": [\n          38326,\n          35883,\n          8417\n        ],\n        \"semantic_type\": \"\",\n        \"description\": \"\"\n      }\n    },\n    {\n      \"column\": \"Gender\",\n      \"properties\": {\n        \"dtype\": \"category\",\n        \"num_unique_values\": 4,\n        \"samples\": [\n          \"Boys\",\n          \"Women\",\n          \"Girls\"\n        ],\n        \"semantic_type\": \"\",\n        \"description\": \"\"\n      }\n    },\n    {\n      \"column\": \"Category\",\n      \"properties\": {\n        \"dtype\": \"category\",\n        \"num_unique_values\": 2,\n        \"samples\": [\n          \"Footwear\",\n          \"Apparel\"\n        ],\n        \"semantic_type\": \"\",\n        \"description\": \"\"\n      }\n    },\n    {\n      \"column\": \"SubCategory\",\n      \"properties\": {\n        \"dtype\": \"category\",\n        \"num_unique_values\": 9,\n        \"samples\": [\n          \"Flip Flops\",\n          \"Bottomwear\"\n        ],\n        \"semantic_type\": \"\",\n        \"description\": \"\"\n      }\n    },\n    {\n      \"column\": \"ProductType\",\n      \"properties\": {\n        \"dtype\": \"category\",\n        \"num_unique_values\": 31,\n        \"samples\": [\n          \"Sports Shoes\",\n          \"Shirts\"\n        ],\n        \"semantic_type\": \"\",\n        \"description\": \"\"\n      }\n    },\n    {\n      \"column\": \"Colour\",\n      \"properties\": {\n        \"dtype\": \"category\",\n        \"num_unique_values\": 39,\n        \"samples\": [\n          \"Gold\",\n          \"Metallic\"\n        ],\n        \"semantic_type\": \"\",\n        \"description\": \"\"\n      }\n    },\n    {\n      \"column\": \"Usage\",\n      \"properties\": {\n        \"dtype\": \"category\",\n        \"num_unique_values\": 6,\n        \"samples\": [\n          \"Casual\",\n          \"Ethnic\"\n        ],\n        \"semantic_type\": \"\",\n        \"description\": \"\"\n      }\n    },\n    {\n      \"column\": \"ProductTitle\",\n      \"properties\": {\n        \"dtype\": \"string\",\n        \"num_unique_values\": 2174,\n        \"samples\": [\n          \"Disney Kids Girl's Blue Check Kidswear Shirt\",\n          \"Puma Men TX-3 Green Casual Shoes\"\n        ],\n        \"semantic_type\": \"\",\n        \"description\": \"\"\n      }\n    },\n    {\n      \"column\": \"Image\",\n      \"properties\": {\n        \"dtype\": \"string\",\n        \"num_unique_values\": 2906,\n        \"samples\": [\n          \"38326.jpg\",\n          \"35883.jpg\"\n        ],\n        \"semantic_type\": \"\",\n        \"description\": \"\"\n      }\n    },\n    {\n      \"column\": \"ImageURL\",\n      \"properties\": {\n        \"dtype\": \"string\",\n        \"num_unique_values\": 2906,\n        \"samples\": [\n          \"http://assets.myntassets.com/v1/images/style/properties/1e362eb632a23a34570c7bf9833aa1e4_images.jpg\",\n          \"http://assets.myntassets.com/v1/images/style/properties/0342a1d019bcdb29d34073f9bf5f2fbe_images.jpg\"\n        ],\n        \"semantic_type\": \"\",\n        \"description\": \"\"\n      }\n    }\n  ]\n}"
            }
          },
          "metadata": {},
          "execution_count": 6
        }
      ],
      "source": [
        "data"
      ]
    },
    {
      "cell_type": "code",
      "execution_count": 7,
      "metadata": {
        "colab": {
          "base_uri": "https://localhost:8080/"
        },
        "id": "npIcayGpfdMt",
        "outputId": "30cb303d-1f8d-4145-e22a-2ac4c0d723ac"
      },
      "outputs": [
        {
          "output_type": "stream",
          "name": "stdout",
          "text": [
            "<class 'pandas.core.frame.DataFrame'>\n",
            "RangeIndex: 2906 entries, 0 to 2905\n",
            "Data columns (total 10 columns):\n",
            " #   Column        Non-Null Count  Dtype \n",
            "---  ------        --------------  ----- \n",
            " 0   ProductId     2906 non-null   int64 \n",
            " 1   Gender        2906 non-null   object\n",
            " 2   Category      2906 non-null   object\n",
            " 3   SubCategory   2906 non-null   object\n",
            " 4   ProductType   2906 non-null   object\n",
            " 5   Colour        2906 non-null   object\n",
            " 6   Usage         2906 non-null   object\n",
            " 7   ProductTitle  2906 non-null   object\n",
            " 8   Image         2906 non-null   object\n",
            " 9   ImageURL      2906 non-null   object\n",
            "dtypes: int64(1), object(9)\n",
            "memory usage: 227.2+ KB\n"
          ]
        }
      ],
      "source": [
        "data.info()"
      ]
    },
    {
      "cell_type": "code",
      "execution_count": 8,
      "metadata": {
        "colab": {
          "base_uri": "https://localhost:8080/"
        },
        "id": "EHw0F9HOhFpQ",
        "outputId": "a71aa31d-8fa2-464f-f6ec-7c0680691219"
      },
      "outputs": [
        {
          "output_type": "stream",
          "name": "stdout",
          "text": [
            "   ProductId Gender Category SubCategory ProductType Colour   Usage  \\\n",
            "0      42419  Girls  Apparel     Topwear        Tops  White  Casual   \n",
            "1      34009  Girls  Apparel     Topwear        Tops  Black  Casual   \n",
            "2      40143  Girls  Apparel     Topwear        Tops   Blue  Casual   \n",
            "3      23623  Girls  Apparel     Topwear        Tops   Pink  Casual   \n",
            "4      47154  Girls  Apparel  Bottomwear      Capris  Black  Casual   \n",
            "\n",
            "                                  ProductTitle      Image  \\\n",
            "0           Gini and Jony Girls Knit White Top  42419.jpg   \n",
            "1                Gini and Jony Girls Black Top  34009.jpg   \n",
            "2  Gini and Jony Girls Pretty Blossom Blue Top  40143.jpg   \n",
            "3   Doodle Kids Girls Pink I love Shopping Top  23623.jpg   \n",
            "4             Gini and Jony Girls Black Capris  47154.jpg   \n",
            "\n",
            "                                            ImageURL  \\\n",
            "0  http://assets.myntassets.com/v1/images/style/p...   \n",
            "1  http://assets.myntassets.com/v1/images/style/p...   \n",
            "2  http://assets.myntassets.com/v1/images/style/p...   \n",
            "3  http://assets.myntassets.com/v1/images/style/p...   \n",
            "4  http://assets.myntassets.com/v1/images/style/p...   \n",
            "\n",
            "                                          image_path  \n",
            "0  /content/drive/MyDrive/E-commerce Product Imag...  \n",
            "1  /content/drive/MyDrive/E-commerce Product Imag...  \n",
            "2  /content/drive/MyDrive/E-commerce Product Imag...  \n",
            "3  /content/drive/MyDrive/E-commerce Product Imag...  \n",
            "4  /content/drive/MyDrive/E-commerce Product Imag...  \n"
          ]
        }
      ],
      "source": [
        "# Función para construir la ruta completa de la imagen\n",
        "def construct_image_path(row):\n",
        "    category = row[\"Category\"]\n",
        "    gender = row[\"Gender\"]\n",
        "    image_name = row[\"Image\"]\n",
        "\n",
        "    return os.path.join(base_dir, category, gender, \"Images\", \"images_with_product_ids\", image_name)\n",
        "\n",
        "data[\"image_path\"] = data.apply(construct_image_path, axis=1)\n",
        "\n",
        "print(data.head())"
      ]
    },
    {
      "cell_type": "code",
      "execution_count": 9,
      "metadata": {
        "colab": {
          "base_uri": "https://localhost:8080/"
        },
        "id": "76q57OhbvlIi",
        "outputId": "a7a44827-69d6-4b9f-f692-47ca144bec71"
      },
      "outputs": [
        {
          "output_type": "stream",
          "name": "stdout",
          "text": [
            "Imágenes válidas: 2906\n"
          ]
        }
      ],
      "source": [
        "# Verificar si las imágenes existen\n",
        "data[\"image_exists\"] = data[\"image_path\"].apply(os.path.exists)\n",
        "\n",
        "# Imprimir las imágenes que faltan\n",
        "missing_images = data[~data[\"image_exists\"]]\n",
        "if not missing_images.empty:\n",
        "    print(f\"Faltan {len(missing_images)} imágenes:\")\n",
        "    print(missing_images)\n",
        "\n",
        "# Filtrar solo las imágenes existentes\n",
        "data = data[data[\"image_exists\"]]\n",
        "print(f\"Imágenes válidas: {len(data)}\")\n"
      ]
    },
    {
      "cell_type": "code",
      "source": [
        "# Convertir las etiquetas categóricas a valores numéricos\n",
        "data[\"gender_label\"] = data[\"Gender\"].astype(\"category\").cat.codes\n",
        "data[\"category_label\"] = data[\"Category\"].astype(\"category\").cat.codes\n",
        "data[\"subcategory_label\"] = data[\"SubCategory\"].astype(\"category\").cat.codes\n",
        "data[\"producttype_label\"] = data[\"ProductType\"].astype(\"category\").cat.codes\n",
        "data[\"colour_label\"] = data[\"Colour\"].astype(\"category\").cat.codes\n",
        "\n",
        "# Crear un único dataset de TensorFlow\n",
        "def load_image_with_labels(image_path, gender_label, category_label, subcategory_label, producttype_label, colour_label):\n",
        "    img = tf.io.read_file(image_path)\n",
        "    img = tf.image.decode_jpeg(img, channels=3)\n",
        "    img = tf.image.resize(img, [128, 128])  # Redimensionar a 128x128 píxeles\n",
        "    img = img / 255.0  # Normalizar entre 0 y 1\n",
        "    return img, {\n",
        "        'gender_output': gender_label,\n",
        "        'category_output': category_label,\n",
        "        'subcategory_output': subcategory_label,\n",
        "        'producttype_output': producttype_label,\n",
        "        'colour_output': colour_label,\n",
        "    }\n",
        "\n",
        "# Dividir en entrenamiento y prueba\n",
        "from sklearn.model_selection import train_test_split\n",
        "\n",
        "x_train, x_test, y_train, y_test = train_test_split(\n",
        "    data[\"image_path\"].values,\n",
        "    data[[\"gender_label\", \"category_label\", \"subcategory_label\", \"producttype_label\", \"colour_label\"]].values,\n",
        "    test_size=0.2,\n",
        "    random_state=42\n",
        ")\n",
        "\n",
        "# Crear datasets de TensorFlow\n",
        "train_dataset = tf.data.Dataset.from_tensor_slices((x_train, y_train))\n",
        "train_dataset = train_dataset.map(\n",
        "    lambda x, y: load_image_with_labels(\n",
        "        x, y[0], y[1], y[2], y[3], y[4]\n",
        "    )\n",
        ").batch(32).shuffle(buffer_size=1000)\n",
        "\n",
        "test_dataset = tf.data.Dataset.from_tensor_slices((x_test, y_test))\n",
        "test_dataset = test_dataset.map(\n",
        "    lambda x, y: load_image_with_labels(\n",
        "        x, y[0], y[1], y[2], y[3], y[4]\n",
        "    )\n",
        ").batch(32)\n"
      ],
      "metadata": {
        "id": "yd1DT4mNS1vt"
      },
      "execution_count": 10,
      "outputs": []
    },
    {
      "cell_type": "code",
      "source": [
        "# Convertir las etiquetas categóricas a valores numéricos, asegurando que empiezan desde 0\n",
        "label_columns = [\"Gender\", \"Category\", \"SubCategory\", \"ProductType\", \"Colour\"]\n",
        "for col in label_columns:\n",
        "    data[f\"{col.lower()}_label\"] = data[col].astype(\"category\").cat.codes\n"
      ],
      "metadata": {
        "id": "VU5-OFDaOxsD"
      },
      "execution_count": 11,
      "outputs": []
    },
    {
      "cell_type": "code",
      "source": [
        "# Crear un único dataset de TensorFlow\n",
        "def load_image_with_labels(image_path, labels):\n",
        "    # Cargar y procesar la imagen\n",
        "    img = tf.io.read_file(image_path)\n",
        "    img = tf.image.decode_jpeg(img, channels=3)\n",
        "    img = tf.image.resize(img, [128, 128])  # Redimensionar a 128x128 píxeles\n",
        "    img = img / 255.0  # Normalizar entre 0 y 1\n",
        "\n",
        "    # Asegurar que las etiquetas son tensores\n",
        "    labels = tf.cast(labels, tf.int32)\n",
        "\n",
        "    return img, {\n",
        "        'gender_output': labels[0],\n",
        "        'category_output': labels[1],\n",
        "        'subcategory_output': labels[2],\n",
        "        'producttype_output': labels[3],\n",
        "        'colour_output': labels[4],\n",
        "    }"
      ],
      "metadata": {
        "id": "PDyj-TfDOzhy"
      },
      "execution_count": 12,
      "outputs": []
    },
    {
      "cell_type": "code",
      "source": [
        "# Dividir en entrenamiento y prueba\n",
        "\n",
        "x_train, x_test, y_train, y_test = train_test_split(\n",
        "    data[\"image_path\"].values,\n",
        "    data[[\"gender_label\", \"category_label\", \"subcategory_label\", \"producttype_label\", \"colour_label\"]].values,\n",
        "    test_size=0.2,\n",
        "    random_state=42\n",
        ")"
      ],
      "metadata": {
        "id": "5mhvlevpO5AR"
      },
      "execution_count": 13,
      "outputs": []
    },
    {
      "cell_type": "code",
      "source": [
        "# Crear datasets de TensorFlow\n",
        "train_dataset = tf.data.Dataset.from_tensor_slices((x_train, y_train))\n",
        "train_dataset = train_dataset.map(\n",
        "    lambda x, y: load_image_with_labels(\n",
        "        x, y\n",
        "    )\n",
        ").batch(32).shuffle(buffer_size=1000)\n",
        "\n",
        "test_dataset = tf.data.Dataset.from_tensor_slices((x_test, y_test))\n",
        "test_dataset = test_dataset.map(\n",
        "    lambda x, y: load_image_with_labels(\n",
        "        x, y\n",
        "    )\n",
        ").batch(32)\n",
        "\n",
        "# Verificar los rangos de las etiquetas para cada salida\n",
        "num_classes = {\n",
        "    'gender_output': data['gender_label'].nunique(),\n",
        "    'category_output': data['category_label'].nunique(),\n",
        "    'subcategory_output': data['subcategory_label'].nunique(),\n",
        "    'producttype_output': data['producttype_label'].nunique(),\n",
        "    'colour_output': data['colour_label'].nunique(),\n",
        "}"
      ],
      "metadata": {
        "id": "p_xMAy96O97I"
      },
      "execution_count": 14,
      "outputs": []
    },
    {
      "cell_type": "code",
      "source": [
        "from tensorflow.keras import models\n",
        "\n",
        "# Crear el modelo\n",
        "inputs = layers.Input(shape=(128, 128, 3))\n",
        "\n",
        "# Modelo base\n",
        "x = layers.Conv2D(32, (3, 3), activation='relu')(inputs)\n",
        "x = layers.MaxPooling2D((2, 2))(x)\n",
        "x = layers.Flatten()(x)\n",
        "\n",
        "# Salidas individuales para cada etiqueta\n",
        "outputs = {\n",
        "    'gender_output': layers.Dense(num_classes['gender_output'], activation='softmax', name='gender_output')(x),\n",
        "    'category_output': layers.Dense(num_classes['category_output'], activation='softmax', name='category_output')(x),\n",
        "    'subcategory_output': layers.Dense(num_classes['subcategory_output'], activation='softmax', name='subcategory_output')(x),\n",
        "    'producttype_output': layers.Dense(num_classes['producttype_output'], activation='softmax', name='producttype_output')(x),\n",
        "    'colour_output': layers.Dense(num_classes['colour_output'], activation='softmax', name='colour_output')(x),\n",
        "}\n",
        "\n",
        "model = models.Model(inputs=inputs, outputs=outputs)\n",
        "\n",
        "# Compilar el modelo con métricas específicas para cada salida\n",
        "model.compile(\n",
        "    optimizer='adam',\n",
        "    loss={\n",
        "        'gender_output': 'sparse_categorical_crossentropy',\n",
        "        'category_output': 'sparse_categorical_crossentropy',\n",
        "        'subcategory_output': 'sparse_categorical_crossentropy',\n",
        "        'producttype_output': 'sparse_categorical_crossentropy',\n",
        "        'colour_output': 'sparse_categorical_crossentropy',\n",
        "    },\n",
        "    metrics={\n",
        "        'gender_output': ['accuracy'],\n",
        "        'category_output': ['accuracy'],\n",
        "        'subcategory_output': ['accuracy'],\n",
        "        'producttype_output': ['accuracy'],\n",
        "        'colour_output': ['accuracy'],\n",
        "    }\n",
        ")\n",
        "\n",
        "# Resumen del modelo\n",
        "model.summary()"
      ],
      "metadata": {
        "colab": {
          "base_uri": "https://localhost:8080/",
          "height": 479
        },
        "id": "6t4Oknm8X6Wt",
        "outputId": "216b61c3-2128-4a77-8b70-33275a8b5075"
      },
      "execution_count": 15,
      "outputs": [
        {
          "output_type": "display_data",
          "data": {
            "text/plain": [
              "\u001b[1mModel: \"functional\"\u001b[0m\n"
            ],
            "text/html": [
              "<pre style=\"white-space:pre;overflow-x:auto;line-height:normal;font-family:Menlo,'DejaVu Sans Mono',consolas,'Courier New',monospace\"><span style=\"font-weight: bold\">Model: \"functional\"</span>\n",
              "</pre>\n"
            ]
          },
          "metadata": {}
        },
        {
          "output_type": "display_data",
          "data": {
            "text/plain": [
              "┏━━━━━━━━━━━━━━━━━━━━━━━━━━━┳━━━━━━━━━━━━━━━━━━━━━━━━┳━━━━━━━━━━━━━━━━┳━━━━━━━━━━━━━━━━━━━━━━━━┓\n",
              "┃\u001b[1m \u001b[0m\u001b[1mLayer (type)             \u001b[0m\u001b[1m \u001b[0m┃\u001b[1m \u001b[0m\u001b[1mOutput Shape          \u001b[0m\u001b[1m \u001b[0m┃\u001b[1m \u001b[0m\u001b[1m       Param #\u001b[0m\u001b[1m \u001b[0m┃\u001b[1m \u001b[0m\u001b[1mConnected to          \u001b[0m\u001b[1m \u001b[0m┃\n",
              "┡━━━━━━━━━━━━━━━━━━━━━━━━━━━╇━━━━━━━━━━━━━━━━━━━━━━━━╇━━━━━━━━━━━━━━━━╇━━━━━━━━━━━━━━━━━━━━━━━━┩\n",
              "│ input_layer (\u001b[38;5;33mInputLayer\u001b[0m)  │ (\u001b[38;5;45mNone\u001b[0m, \u001b[38;5;34m128\u001b[0m, \u001b[38;5;34m128\u001b[0m, \u001b[38;5;34m3\u001b[0m)    │              \u001b[38;5;34m0\u001b[0m │ -                      │\n",
              "├───────────────────────────┼────────────────────────┼────────────────┼────────────────────────┤\n",
              "│ conv2d (\u001b[38;5;33mConv2D\u001b[0m)           │ (\u001b[38;5;45mNone\u001b[0m, \u001b[38;5;34m126\u001b[0m, \u001b[38;5;34m126\u001b[0m, \u001b[38;5;34m32\u001b[0m)   │            \u001b[38;5;34m896\u001b[0m │ input_layer[\u001b[38;5;34m0\u001b[0m][\u001b[38;5;34m0\u001b[0m]      │\n",
              "├───────────────────────────┼────────────────────────┼────────────────┼────────────────────────┤\n",
              "│ max_pooling2d             │ (\u001b[38;5;45mNone\u001b[0m, \u001b[38;5;34m63\u001b[0m, \u001b[38;5;34m63\u001b[0m, \u001b[38;5;34m32\u001b[0m)     │              \u001b[38;5;34m0\u001b[0m │ conv2d[\u001b[38;5;34m0\u001b[0m][\u001b[38;5;34m0\u001b[0m]           │\n",
              "│ (\u001b[38;5;33mMaxPooling2D\u001b[0m)            │                        │                │                        │\n",
              "├───────────────────────────┼────────────────────────┼────────────────┼────────────────────────┤\n",
              "│ flatten (\u001b[38;5;33mFlatten\u001b[0m)         │ (\u001b[38;5;45mNone\u001b[0m, \u001b[38;5;34m127008\u001b[0m)         │              \u001b[38;5;34m0\u001b[0m │ max_pooling2d[\u001b[38;5;34m0\u001b[0m][\u001b[38;5;34m0\u001b[0m]    │\n",
              "├───────────────────────────┼────────────────────────┼────────────────┼────────────────────────┤\n",
              "│ category_output (\u001b[38;5;33mDense\u001b[0m)   │ (\u001b[38;5;45mNone\u001b[0m, \u001b[38;5;34m2\u001b[0m)              │        \u001b[38;5;34m254,018\u001b[0m │ flatten[\u001b[38;5;34m0\u001b[0m][\u001b[38;5;34m0\u001b[0m]          │\n",
              "├───────────────────────────┼────────────────────────┼────────────────┼────────────────────────┤\n",
              "│ colour_output (\u001b[38;5;33mDense\u001b[0m)     │ (\u001b[38;5;45mNone\u001b[0m, \u001b[38;5;34m39\u001b[0m)             │      \u001b[38;5;34m4,953,351\u001b[0m │ flatten[\u001b[38;5;34m0\u001b[0m][\u001b[38;5;34m0\u001b[0m]          │\n",
              "├───────────────────────────┼────────────────────────┼────────────────┼────────────────────────┤\n",
              "│ gender_output (\u001b[38;5;33mDense\u001b[0m)     │ (\u001b[38;5;45mNone\u001b[0m, \u001b[38;5;34m4\u001b[0m)              │        \u001b[38;5;34m508,036\u001b[0m │ flatten[\u001b[38;5;34m0\u001b[0m][\u001b[38;5;34m0\u001b[0m]          │\n",
              "├───────────────────────────┼────────────────────────┼────────────────┼────────────────────────┤\n",
              "│ producttype_output        │ (\u001b[38;5;45mNone\u001b[0m, \u001b[38;5;34m31\u001b[0m)             │      \u001b[38;5;34m3,937,279\u001b[0m │ flatten[\u001b[38;5;34m0\u001b[0m][\u001b[38;5;34m0\u001b[0m]          │\n",
              "│ (\u001b[38;5;33mDense\u001b[0m)                   │                        │                │                        │\n",
              "├───────────────────────────┼────────────────────────┼────────────────┼────────────────────────┤\n",
              "│ subcategory_output        │ (\u001b[38;5;45mNone\u001b[0m, \u001b[38;5;34m9\u001b[0m)              │      \u001b[38;5;34m1,143,081\u001b[0m │ flatten[\u001b[38;5;34m0\u001b[0m][\u001b[38;5;34m0\u001b[0m]          │\n",
              "│ (\u001b[38;5;33mDense\u001b[0m)                   │                        │                │                        │\n",
              "└───────────────────────────┴────────────────────────┴────────────────┴────────────────────────┘\n"
            ],
            "text/html": [
              "<pre style=\"white-space:pre;overflow-x:auto;line-height:normal;font-family:Menlo,'DejaVu Sans Mono',consolas,'Courier New',monospace\">┏━━━━━━━━━━━━━━━━━━━━━━━━━━━┳━━━━━━━━━━━━━━━━━━━━━━━━┳━━━━━━━━━━━━━━━━┳━━━━━━━━━━━━━━━━━━━━━━━━┓\n",
              "┃<span style=\"font-weight: bold\"> Layer (type)              </span>┃<span style=\"font-weight: bold\"> Output Shape           </span>┃<span style=\"font-weight: bold\">        Param # </span>┃<span style=\"font-weight: bold\"> Connected to           </span>┃\n",
              "┡━━━━━━━━━━━━━━━━━━━━━━━━━━━╇━━━━━━━━━━━━━━━━━━━━━━━━╇━━━━━━━━━━━━━━━━╇━━━━━━━━━━━━━━━━━━━━━━━━┩\n",
              "│ input_layer (<span style=\"color: #0087ff; text-decoration-color: #0087ff\">InputLayer</span>)  │ (<span style=\"color: #00d7ff; text-decoration-color: #00d7ff\">None</span>, <span style=\"color: #00af00; text-decoration-color: #00af00\">128</span>, <span style=\"color: #00af00; text-decoration-color: #00af00\">128</span>, <span style=\"color: #00af00; text-decoration-color: #00af00\">3</span>)    │              <span style=\"color: #00af00; text-decoration-color: #00af00\">0</span> │ -                      │\n",
              "├───────────────────────────┼────────────────────────┼────────────────┼────────────────────────┤\n",
              "│ conv2d (<span style=\"color: #0087ff; text-decoration-color: #0087ff\">Conv2D</span>)           │ (<span style=\"color: #00d7ff; text-decoration-color: #00d7ff\">None</span>, <span style=\"color: #00af00; text-decoration-color: #00af00\">126</span>, <span style=\"color: #00af00; text-decoration-color: #00af00\">126</span>, <span style=\"color: #00af00; text-decoration-color: #00af00\">32</span>)   │            <span style=\"color: #00af00; text-decoration-color: #00af00\">896</span> │ input_layer[<span style=\"color: #00af00; text-decoration-color: #00af00\">0</span>][<span style=\"color: #00af00; text-decoration-color: #00af00\">0</span>]      │\n",
              "├───────────────────────────┼────────────────────────┼────────────────┼────────────────────────┤\n",
              "│ max_pooling2d             │ (<span style=\"color: #00d7ff; text-decoration-color: #00d7ff\">None</span>, <span style=\"color: #00af00; text-decoration-color: #00af00\">63</span>, <span style=\"color: #00af00; text-decoration-color: #00af00\">63</span>, <span style=\"color: #00af00; text-decoration-color: #00af00\">32</span>)     │              <span style=\"color: #00af00; text-decoration-color: #00af00\">0</span> │ conv2d[<span style=\"color: #00af00; text-decoration-color: #00af00\">0</span>][<span style=\"color: #00af00; text-decoration-color: #00af00\">0</span>]           │\n",
              "│ (<span style=\"color: #0087ff; text-decoration-color: #0087ff\">MaxPooling2D</span>)            │                        │                │                        │\n",
              "├───────────────────────────┼────────────────────────┼────────────────┼────────────────────────┤\n",
              "│ flatten (<span style=\"color: #0087ff; text-decoration-color: #0087ff\">Flatten</span>)         │ (<span style=\"color: #00d7ff; text-decoration-color: #00d7ff\">None</span>, <span style=\"color: #00af00; text-decoration-color: #00af00\">127008</span>)         │              <span style=\"color: #00af00; text-decoration-color: #00af00\">0</span> │ max_pooling2d[<span style=\"color: #00af00; text-decoration-color: #00af00\">0</span>][<span style=\"color: #00af00; text-decoration-color: #00af00\">0</span>]    │\n",
              "├───────────────────────────┼────────────────────────┼────────────────┼────────────────────────┤\n",
              "│ category_output (<span style=\"color: #0087ff; text-decoration-color: #0087ff\">Dense</span>)   │ (<span style=\"color: #00d7ff; text-decoration-color: #00d7ff\">None</span>, <span style=\"color: #00af00; text-decoration-color: #00af00\">2</span>)              │        <span style=\"color: #00af00; text-decoration-color: #00af00\">254,018</span> │ flatten[<span style=\"color: #00af00; text-decoration-color: #00af00\">0</span>][<span style=\"color: #00af00; text-decoration-color: #00af00\">0</span>]          │\n",
              "├───────────────────────────┼────────────────────────┼────────────────┼────────────────────────┤\n",
              "│ colour_output (<span style=\"color: #0087ff; text-decoration-color: #0087ff\">Dense</span>)     │ (<span style=\"color: #00d7ff; text-decoration-color: #00d7ff\">None</span>, <span style=\"color: #00af00; text-decoration-color: #00af00\">39</span>)             │      <span style=\"color: #00af00; text-decoration-color: #00af00\">4,953,351</span> │ flatten[<span style=\"color: #00af00; text-decoration-color: #00af00\">0</span>][<span style=\"color: #00af00; text-decoration-color: #00af00\">0</span>]          │\n",
              "├───────────────────────────┼────────────────────────┼────────────────┼────────────────────────┤\n",
              "│ gender_output (<span style=\"color: #0087ff; text-decoration-color: #0087ff\">Dense</span>)     │ (<span style=\"color: #00d7ff; text-decoration-color: #00d7ff\">None</span>, <span style=\"color: #00af00; text-decoration-color: #00af00\">4</span>)              │        <span style=\"color: #00af00; text-decoration-color: #00af00\">508,036</span> │ flatten[<span style=\"color: #00af00; text-decoration-color: #00af00\">0</span>][<span style=\"color: #00af00; text-decoration-color: #00af00\">0</span>]          │\n",
              "├───────────────────────────┼────────────────────────┼────────────────┼────────────────────────┤\n",
              "│ producttype_output        │ (<span style=\"color: #00d7ff; text-decoration-color: #00d7ff\">None</span>, <span style=\"color: #00af00; text-decoration-color: #00af00\">31</span>)             │      <span style=\"color: #00af00; text-decoration-color: #00af00\">3,937,279</span> │ flatten[<span style=\"color: #00af00; text-decoration-color: #00af00\">0</span>][<span style=\"color: #00af00; text-decoration-color: #00af00\">0</span>]          │\n",
              "│ (<span style=\"color: #0087ff; text-decoration-color: #0087ff\">Dense</span>)                   │                        │                │                        │\n",
              "├───────────────────────────┼────────────────────────┼────────────────┼────────────────────────┤\n",
              "│ subcategory_output        │ (<span style=\"color: #00d7ff; text-decoration-color: #00d7ff\">None</span>, <span style=\"color: #00af00; text-decoration-color: #00af00\">9</span>)              │      <span style=\"color: #00af00; text-decoration-color: #00af00\">1,143,081</span> │ flatten[<span style=\"color: #00af00; text-decoration-color: #00af00\">0</span>][<span style=\"color: #00af00; text-decoration-color: #00af00\">0</span>]          │\n",
              "│ (<span style=\"color: #0087ff; text-decoration-color: #0087ff\">Dense</span>)                   │                        │                │                        │\n",
              "└───────────────────────────┴────────────────────────┴────────────────┴────────────────────────┘\n",
              "</pre>\n"
            ]
          },
          "metadata": {}
        },
        {
          "output_type": "display_data",
          "data": {
            "text/plain": [
              "\u001b[1m Total params: \u001b[0m\u001b[38;5;34m10,796,661\u001b[0m (41.19 MB)\n"
            ],
            "text/html": [
              "<pre style=\"white-space:pre;overflow-x:auto;line-height:normal;font-family:Menlo,'DejaVu Sans Mono',consolas,'Courier New',monospace\"><span style=\"font-weight: bold\"> Total params: </span><span style=\"color: #00af00; text-decoration-color: #00af00\">10,796,661</span> (41.19 MB)\n",
              "</pre>\n"
            ]
          },
          "metadata": {}
        },
        {
          "output_type": "display_data",
          "data": {
            "text/plain": [
              "\u001b[1m Trainable params: \u001b[0m\u001b[38;5;34m10,796,661\u001b[0m (41.19 MB)\n"
            ],
            "text/html": [
              "<pre style=\"white-space:pre;overflow-x:auto;line-height:normal;font-family:Menlo,'DejaVu Sans Mono',consolas,'Courier New',monospace\"><span style=\"font-weight: bold\"> Trainable params: </span><span style=\"color: #00af00; text-decoration-color: #00af00\">10,796,661</span> (41.19 MB)\n",
              "</pre>\n"
            ]
          },
          "metadata": {}
        },
        {
          "output_type": "display_data",
          "data": {
            "text/plain": [
              "\u001b[1m Non-trainable params: \u001b[0m\u001b[38;5;34m0\u001b[0m (0.00 B)\n"
            ],
            "text/html": [
              "<pre style=\"white-space:pre;overflow-x:auto;line-height:normal;font-family:Menlo,'DejaVu Sans Mono',consolas,'Courier New',monospace\"><span style=\"font-weight: bold\"> Non-trainable params: </span><span style=\"color: #00af00; text-decoration-color: #00af00\">0</span> (0.00 B)\n",
              "</pre>\n"
            ]
          },
          "metadata": {}
        }
      ]
    },
    {
      "cell_type": "code",
      "source": [
        "# Entrenar el modelo\n",
        "history = model.fit(\n",
        "    train_dataset,\n",
        "    validation_data=test_dataset,\n",
        "    epochs=10\n",
        ")"
      ],
      "metadata": {
        "colab": {
          "base_uri": "https://localhost:8080/"
        },
        "id": "vVQGmqyRPHDv",
        "outputId": "2b88f1b4-b75c-470b-d6a1-5b85cc0a2e59"
      },
      "execution_count": 16,
      "outputs": [
        {
          "output_type": "stream",
          "name": "stdout",
          "text": [
            "Epoch 1/10\n",
            "\u001b[1m73/73\u001b[0m \u001b[32m━━━━━━━━━━━━━━━━━━━━\u001b[0m\u001b[37m\u001b[0m \u001b[1m481s\u001b[0m 2s/step - category_output_accuracy: 0.7265 - category_output_loss: 2.6682 - colour_output_accuracy: 0.2790 - colour_output_loss: 6.3647 - gender_output_accuracy: 0.4831 - gender_output_loss: 3.8584 - loss: 21.9279 - producttype_output_accuracy: 0.2738 - producttype_output_loss: 6.4192 - subcategory_output_accuracy: 0.6100 - subcategory_output_loss: 2.5828 - val_category_output_accuracy: 0.9897 - val_category_output_loss: 0.0565 - val_colour_output_accuracy: 0.6271 - val_colour_output_loss: 1.4683 - val_gender_output_accuracy: 0.8402 - val_gender_output_loss: 0.4503 - val_loss: 3.4188 - val_producttype_output_accuracy: 0.6753 - val_producttype_output_loss: 1.0774 - val_subcategory_output_accuracy: 0.8986 - val_subcategory_output_loss: 0.3744\n",
            "Epoch 2/10\n",
            "\u001b[1m73/73\u001b[0m \u001b[32m━━━━━━━━━━━━━━━━━━━━\u001b[0m\u001b[37m\u001b[0m \u001b[1m112s\u001b[0m 816ms/step - category_output_accuracy: 0.9949 - category_output_loss: 0.0245 - colour_output_accuracy: 0.6970 - colour_output_loss: 1.1302 - gender_output_accuracy: 0.9033 - gender_output_loss: 0.2927 - loss: 2.4678 - producttype_output_accuracy: 0.7882 - producttype_output_loss: 0.7376 - subcategory_output_accuracy: 0.9206 - subcategory_output_loss: 0.2792 - val_category_output_accuracy: 0.9897 - val_category_output_loss: 0.0475 - val_colour_output_accuracy: 0.7045 - val_colour_output_loss: 1.3098 - val_gender_output_accuracy: 0.8780 - val_gender_output_loss: 0.3782 - val_loss: 2.9509 - val_producttype_output_accuracy: 0.7268 - val_producttype_output_loss: 0.9611 - val_subcategory_output_accuracy: 0.9141 - val_subcategory_output_loss: 0.2994\n",
            "Epoch 3/10\n",
            "\u001b[1m73/73\u001b[0m \u001b[32m━━━━━━━━━━━━━━━━━━━━\u001b[0m\u001b[37m\u001b[0m \u001b[1m112s\u001b[0m 790ms/step - category_output_accuracy: 0.9995 - category_output_loss: 0.0156 - colour_output_accuracy: 0.8091 - colour_output_loss: 0.6903 - gender_output_accuracy: 0.9419 - gender_output_loss: 0.2086 - loss: 1.5166 - producttype_output_accuracy: 0.8980 - producttype_output_loss: 0.4346 - subcategory_output_accuracy: 0.9606 - subcategory_output_loss: 0.1671 - val_category_output_accuracy: 0.9897 - val_category_output_loss: 0.0429 - val_colour_output_accuracy: 0.7182 - val_colour_output_loss: 1.2438 - val_gender_output_accuracy: 0.8814 - val_gender_output_loss: 0.3579 - val_loss: 2.9557 - val_producttype_output_accuracy: 0.6993 - val_producttype_output_loss: 1.0074 - val_subcategory_output_accuracy: 0.8986 - val_subcategory_output_loss: 0.3251\n",
            "Epoch 4/10\n",
            "\u001b[1m73/73\u001b[0m \u001b[32m━━━━━━━━━━━━━━━━━━━━\u001b[0m\u001b[37m\u001b[0m \u001b[1m144s\u001b[0m 739ms/step - category_output_accuracy: 0.9983 - category_output_loss: 0.0105 - colour_output_accuracy: 0.9147 - colour_output_loss: 0.3565 - gender_output_accuracy: 0.9529 - gender_output_loss: 0.1410 - loss: 0.8405 - producttype_output_accuracy: 0.9402 - producttype_output_loss: 0.2441 - subcategory_output_accuracy: 0.9778 - subcategory_output_loss: 0.0879 - val_category_output_accuracy: 0.9897 - val_category_output_loss: 0.0369 - val_colour_output_accuracy: 0.7216 - val_colour_output_loss: 1.2175 - val_gender_output_accuracy: 0.9003 - val_gender_output_loss: 0.3475 - val_loss: 2.7221 - val_producttype_output_accuracy: 0.7663 - val_producttype_output_loss: 0.8834 - val_subcategory_output_accuracy: 0.9227 - val_subcategory_output_loss: 0.2818\n",
            "Epoch 5/10\n",
            "\u001b[1m73/73\u001b[0m \u001b[32m━━━━━━━━━━━━━━━━━━━━\u001b[0m\u001b[37m\u001b[0m \u001b[1m114s\u001b[0m 800ms/step - category_output_accuracy: 0.9993 - category_output_loss: 0.0041 - colour_output_accuracy: 0.9514 - colour_output_loss: 0.2514 - gender_output_accuracy: 0.9671 - gender_output_loss: 0.1026 - loss: 0.5987 - producttype_output_accuracy: 0.9642 - producttype_output_loss: 0.1833 - subcategory_output_accuracy: 0.9906 - subcategory_output_loss: 0.0566 - val_category_output_accuracy: 0.9897 - val_category_output_loss: 0.0407 - val_colour_output_accuracy: 0.6993 - val_colour_output_loss: 1.3380 - val_gender_output_accuracy: 0.8797 - val_gender_output_loss: 0.3825 - val_loss: 2.9027 - val_producttype_output_accuracy: 0.7560 - val_producttype_output_loss: 0.8828 - val_subcategory_output_accuracy: 0.9210 - val_subcategory_output_loss: 0.2948\n",
            "Epoch 6/10\n",
            "\u001b[1m73/73\u001b[0m \u001b[32m━━━━━━━━━━━━━━━━━━━━\u001b[0m\u001b[37m\u001b[0m \u001b[1m136s\u001b[0m 724ms/step - category_output_accuracy: 1.0000 - category_output_loss: 0.0017 - colour_output_accuracy: 0.9697 - colour_output_loss: 0.1656 - gender_output_accuracy: 0.9832 - gender_output_loss: 0.0789 - loss: 0.4018 - producttype_output_accuracy: 0.9857 - producttype_output_loss: 0.1167 - subcategory_output_accuracy: 0.9945 - subcategory_output_loss: 0.0381 - val_category_output_accuracy: 0.9897 - val_category_output_loss: 0.0385 - val_colour_output_accuracy: 0.7251 - val_colour_output_loss: 1.2772 - val_gender_output_accuracy: 0.8969 - val_gender_output_loss: 0.3804 - val_loss: 2.8194 - val_producttype_output_accuracy: 0.7766 - val_producttype_output_loss: 0.8779 - val_subcategory_output_accuracy: 0.9244 - val_subcategory_output_loss: 0.2959\n",
            "Epoch 7/10\n",
            "\u001b[1m73/73\u001b[0m \u001b[32m━━━━━━━━━━━━━━━━━━━━\u001b[0m\u001b[37m\u001b[0m \u001b[1m146s\u001b[0m 818ms/step - category_output_accuracy: 1.0000 - category_output_loss: 0.0015 - colour_output_accuracy: 0.9864 - colour_output_loss: 0.1142 - gender_output_accuracy: 0.9876 - gender_output_loss: 0.0548 - loss: 0.2719 - producttype_output_accuracy: 0.9941 - producttype_output_loss: 0.0759 - subcategory_output_accuracy: 0.9965 - subcategory_output_loss: 0.0251 - val_category_output_accuracy: 0.9897 - val_category_output_loss: 0.0438 - val_colour_output_accuracy: 0.7131 - val_colour_output_loss: 1.4869 - val_gender_output_accuracy: 0.9141 - val_gender_output_loss: 0.3481 - val_loss: 3.0249 - val_producttype_output_accuracy: 0.7749 - val_producttype_output_loss: 0.9047 - val_subcategory_output_accuracy: 0.9296 - val_subcategory_output_loss: 0.2871\n",
            "Epoch 8/10\n",
            "\u001b[1m73/73\u001b[0m \u001b[32m━━━━━━━━━━━━━━━━━━━━\u001b[0m\u001b[37m\u001b[0m \u001b[1m142s\u001b[0m 816ms/step - category_output_accuracy: 1.0000 - category_output_loss: 5.8082e-04 - colour_output_accuracy: 0.9953 - colour_output_loss: 0.0787 - gender_output_accuracy: 0.9920 - gender_output_loss: 0.0420 - loss: 0.1966 - producttype_output_accuracy: 0.9962 - producttype_output_loss: 0.0561 - subcategory_output_accuracy: 0.9983 - subcategory_output_loss: 0.0184 - val_category_output_accuracy: 0.9897 - val_category_output_loss: 0.0404 - val_colour_output_accuracy: 0.7199 - val_colour_output_loss: 1.4203 - val_gender_output_accuracy: 0.9124 - val_gender_output_loss: 0.3590 - val_loss: 2.9886 - val_producttype_output_accuracy: 0.7680 - val_producttype_output_loss: 0.9537 - val_subcategory_output_accuracy: 0.9313 - val_subcategory_output_loss: 0.3076\n",
            "Epoch 9/10\n",
            "\u001b[1m73/73\u001b[0m \u001b[32m━━━━━━━━━━━━━━━━━━━━\u001b[0m\u001b[37m\u001b[0m \u001b[1m143s\u001b[0m 799ms/step - category_output_accuracy: 1.0000 - category_output_loss: 5.4086e-04 - colour_output_accuracy: 0.9964 - colour_output_loss: 0.0585 - gender_output_accuracy: 0.9979 - gender_output_loss: 0.0293 - loss: 0.1464 - producttype_output_accuracy: 0.9987 - producttype_output_loss: 0.0441 - subcategory_output_accuracy: 0.9989 - subcategory_output_loss: 0.0138 - val_category_output_accuracy: 0.9914 - val_category_output_loss: 0.0412 - val_colour_output_accuracy: 0.7199 - val_colour_output_loss: 1.4341 - val_gender_output_accuracy: 0.9089 - val_gender_output_loss: 0.4092 - val_loss: 3.0531 - val_producttype_output_accuracy: 0.7715 - val_producttype_output_loss: 0.9262 - val_subcategory_output_accuracy: 0.9347 - val_subcategory_output_loss: 0.3140\n",
            "Epoch 10/10\n",
            "\u001b[1m73/73\u001b[0m \u001b[32m━━━━━━━━━━━━━━━━━━━━\u001b[0m\u001b[37m\u001b[0m \u001b[1m112s\u001b[0m 824ms/step - category_output_accuracy: 1.0000 - category_output_loss: 3.3454e-04 - colour_output_accuracy: 0.9973 - colour_output_loss: 0.0451 - gender_output_accuracy: 0.9974 - gender_output_loss: 0.0240 - loss: 0.1152 - producttype_output_accuracy: 0.9983 - producttype_output_loss: 0.0346 - subcategory_output_accuracy: 0.9994 - subcategory_output_loss: 0.0102 - val_category_output_accuracy: 0.9897 - val_category_output_loss: 0.0431 - val_colour_output_accuracy: 0.7165 - val_colour_output_loss: 1.4695 - val_gender_output_accuracy: 0.9021 - val_gender_output_loss: 0.4223 - val_loss: 3.1780 - val_producttype_output_accuracy: 0.7595 - val_producttype_output_loss: 0.9997 - val_subcategory_output_accuracy: 0.9330 - val_subcategory_output_loss: 0.3171\n"
          ]
        }
      ]
    },
    {
      "cell_type": "code",
      "execution_count": 22,
      "metadata": {
        "colab": {
          "base_uri": "https://localhost:8080/"
        },
        "id": "wwjtaUjfwC0G",
        "outputId": "7ca702a1-1e7e-4887-d025-cc753d40f0ac"
      },
      "outputs": [
        {
          "output_type": "stream",
          "name": "stdout",
          "text": [
            "\u001b[1m19/19\u001b[0m \u001b[32m━━━━━━━━━━━━━━━━━━━━\u001b[0m\u001b[37m\u001b[0m \u001b[1m16s\u001b[0m 838ms/step - category_output_accuracy: 0.9894 - category_output_loss: 0.0360 - colour_output_accuracy: 0.7324 - colour_output_loss: 1.3737 - gender_output_accuracy: 0.9166 - gender_output_loss: 0.3916 - loss: 3.0188 - producttype_output_accuracy: 0.7629 - producttype_output_loss: 0.9496 - subcategory_output_accuracy: 0.9412 - subcategory_output_loss: 0.2753\n",
            "Test Metrics: {'category_output_accuracy': 0.9896907210350037, 'category_output_loss': 0.0430995374917984, 'colour_output_accuracy': 0.7164948582649231, 'colour_output_loss': 1.4695203304290771, 'gender_output_accuracy': 0.9020618796348572, 'gender_output_loss': 0.4223271906375885, 'loss': 3.1779885292053223, 'producttype_output_accuracy': 0.7594501972198486, 'producttype_output_loss': 0.9997389912605286, 'subcategory_output_accuracy': 0.9329897165298462, 'subcategory_output_loss': 0.3170899450778961}\n"
          ]
        }
      ],
      "source": [
        "test_metrics = model.evaluate(test_dataset, return_dict=True)\n",
        "print(\"Test Metrics:\", test_metrics)"
      ]
    },
    {
      "cell_type": "code",
      "source": [
        "metrics_df = pd.DataFrame.from_dict(test_metrics, orient='index', columns=['Value']).reset_index()\n",
        "metrics_df.columns = ['Metric', 'Value']\n",
        "\n",
        "print(metrics_df)"
      ],
      "metadata": {
        "colab": {
          "base_uri": "https://localhost:8080/"
        },
        "id": "THnR72Tfgf6y",
        "outputId": "cc981dda-dc75-4529-a90f-63083f261380"
      },
      "execution_count": 23,
      "outputs": [
        {
          "output_type": "stream",
          "name": "stdout",
          "text": [
            "                         Metric     Value\n",
            "0      category_output_accuracy  0.989691\n",
            "1          category_output_loss  0.043100\n",
            "2        colour_output_accuracy  0.716495\n",
            "3            colour_output_loss  1.469520\n",
            "4        gender_output_accuracy  0.902062\n",
            "5            gender_output_loss  0.422327\n",
            "6                          loss  3.177989\n",
            "7   producttype_output_accuracy  0.759450\n",
            "8       producttype_output_loss  0.999739\n",
            "9   subcategory_output_accuracy  0.932990\n",
            "10      subcategory_output_loss  0.317090\n"
          ]
        }
      ]
    },
    {
      "cell_type": "code",
      "execution_count": 19,
      "metadata": {
        "id": "CM50fOSr8CzF"
      },
      "outputs": [],
      "source": [
        "# Guardar el modelo en el formato recomendado por Keras\n",
        "model.save('cnn_functional.keras')\n"
      ]
    },
    {
      "cell_type": "code",
      "execution_count": 20,
      "metadata": {
        "id": "YVG_Ib8GotqG",
        "colab": {
          "base_uri": "https://localhost:8080/",
          "height": 564
        },
        "outputId": "7cb85389-af3a-429c-ab95-e7046ee9358b"
      },
      "outputs": [
        {
          "output_type": "display_data",
          "data": {
            "text/plain": [
              "<Figure size 1400x600 with 2 Axes>"
            ],
            "image/png": "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\n"
          },
          "metadata": {}
        }
      ],
      "source": [
        "# Plot the training and validation accuracy and loss\n",
        "def plot_training_history(history):\n",
        "    # Retrieve training metrics\n",
        "    acc = history.history['gender_output_accuracy']\n",
        "    val_acc = history.history['val_gender_output_accuracy']\n",
        "    loss = history.history['loss']\n",
        "    val_loss = history.history['val_loss']\n",
        "\n",
        "    # Plot accuracy\n",
        "    plt.figure(figsize=(14, 6))\n",
        "    plt.subplot(1, 2, 1)\n",
        "    plt.plot(acc, label='Training Accuracy')\n",
        "    plt.plot(val_acc, label='Validation Accuracy')\n",
        "    plt.title('Training and Validation Accuracy')\n",
        "    plt.xlabel('Epochs')\n",
        "    plt.ylabel('Accuracy')\n",
        "    plt.legend()\n",
        "\n",
        "    # Plot loss\n",
        "    plt.subplot(1, 2, 2)\n",
        "    plt.plot(loss, label='Training Loss')\n",
        "    plt.plot(val_loss, label='Validation Loss')\n",
        "    plt.title('Training and Validation Loss')\n",
        "    plt.xlabel('Epochs')\n",
        "    plt.ylabel('Loss')\n",
        "    plt.legend()\n",
        "\n",
        "    plt.show()\n",
        "\n",
        "# Call the function to visualize training history\n",
        "plot_training_history(history)\n"
      ]
    }
  ],
  "metadata": {
    "colab": {
      "provenance": [],
      "authorship_tag": "ABX9TyPH7kmZvg1lRac/NW6RjWWP",
      "include_colab_link": true
    },
    "kernelspec": {
      "display_name": "Python 3",
      "name": "python3"
    },
    "language_info": {
      "name": "python"
    }
  },
  "nbformat": 4,
  "nbformat_minor": 0
}
